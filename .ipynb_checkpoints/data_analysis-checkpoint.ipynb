{
 "cells": [
  {
   "cell_type": "code",
   "execution_count": 1,
   "metadata": {
    "collapsed": true
   },
   "outputs": [],
   "source": [
    "import pandas as pd\n",
    "import numpy as np"
   ]
  },
  {
   "cell_type": "code",
   "execution_count": 8,
   "metadata": {},
   "outputs": [
    {
     "name": "stdout",
     "output_type": "stream",
     "text": [
      "data_train\n",
      "   id                                                SEQ\n",
      "0   0  CAAACGCATCAGGATCAAAGTGAACATCACGAAACTTCTTACAATG...\n",
      "1   1  CCGGTAAACTCTGTGGAAAGAGCAATGTGAAATCAGCGAGATAATG...\n",
      "2   2  GGAATTTTCTCGAGCATAGCCAGAGCCGCAGAATTTGCTACGGTTA...\n",
      "3   3  TCACCAATACCGCCTACGTCTACGCCCAGCAGTTTCAGCTTGGCGC...\n",
      "4   4  GCACGGTATCGTGCTTGGTAACCTGGTAGGATTGATCGATTCTGAC...\n",
      "target_train\n",
      "   id  RPOS  RPOD  RPOH  RPON  RPOF\n",
      "0   0     1     0     0     0     0\n",
      "1   1     0     0     0     0     0\n",
      "2   2     1     1     1     0     0\n",
      "3   3     0     0     0     0     0\n",
      "4   4     1     0     0     0     0\n"
     ]
    },
    {
     "data": {
      "text/plain": [
       "3399"
      ]
     },
     "execution_count": 8,
     "metadata": {},
     "output_type": "execute_result"
    }
   ],
   "source": [
    "data_train = pd.read_csv(\"data/PromoterTrain.csv\")\n",
    "target_train = pd.read_csv(\"data/SigmaTrain.csv\")\n",
    "data_test = pd.read_csv(\"data/PromoterTest.csv\")\n",
    "target_test = pd.read_csv(\"data/sampleSubmission.csv\")\n",
    "\n",
    "print(\"data_train, size: \" + str(len(data_train)))\n",
    "print data_train.head()\n",
    "print(\"target_train, size: \" + str(len(target_train)))\n",
    "print target_train.head()\n",
    "\n"
   ]
  },
  {
   "cell_type": "code",
   "execution_count": null,
   "metadata": {
    "collapsed": true
   },
   "outputs": [],
   "source": []
  }
 ],
 "metadata": {
  "kernelspec": {
   "display_name": "Python 2",
   "language": "python",
   "name": "python2"
  },
  "language_info": {
   "codemirror_mode": {
    "name": "ipython",
    "version": 2
   },
   "file_extension": ".py",
   "mimetype": "text/x-python",
   "name": "python",
   "nbconvert_exporter": "python",
   "pygments_lexer": "ipython2",
   "version": "2.7.13"
  }
 },
 "nbformat": 4,
 "nbformat_minor": 2
}
